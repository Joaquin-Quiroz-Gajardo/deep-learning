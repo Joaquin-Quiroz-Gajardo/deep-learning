{
  "nbformat": 4,
  "nbformat_minor": 0,
  "metadata": {
    "colab": {
      "name": "TP_clase_6_modelo_base.ipynb",
      "provenance": []
    },
    "kernelspec": {
      "name": "python3",
      "display_name": "Python 3"
    },
    "language_info": {
      "name": "python"
    }
  },
  "cells": [
    {
      "cell_type": "code",
      "execution_count": 1,
      "metadata": {
        "colab": {
          "base_uri": "https://localhost:8080/",
          "height": 237
        },
        "id": "e_LD5AmIyfjq",
        "outputId": "e58afc39-87a8-4cdc-c7b2-0577653b5cb8"
      },
      "outputs": [
        {
          "output_type": "execute_result",
          "data": {
            "text/plain": [
              "            S4248SM144NCEN\n",
              "DATE                      \n",
              "1992-01-01            3459\n",
              "1992-02-01            3458\n",
              "1992-03-01            4002\n",
              "1992-04-01            4564\n",
              "1992-05-01            4221"
            ],
            "text/html": [
              "\n",
              "  <div id=\"df-6a518908-1abe-4e69-b117-0f9145b72430\">\n",
              "    <div class=\"colab-df-container\">\n",
              "      <div>\n",
              "<style scoped>\n",
              "    .dataframe tbody tr th:only-of-type {\n",
              "        vertical-align: middle;\n",
              "    }\n",
              "\n",
              "    .dataframe tbody tr th {\n",
              "        vertical-align: top;\n",
              "    }\n",
              "\n",
              "    .dataframe thead th {\n",
              "        text-align: right;\n",
              "    }\n",
              "</style>\n",
              "<table border=\"1\" class=\"dataframe\">\n",
              "  <thead>\n",
              "    <tr style=\"text-align: right;\">\n",
              "      <th></th>\n",
              "      <th>S4248SM144NCEN</th>\n",
              "    </tr>\n",
              "    <tr>\n",
              "      <th>DATE</th>\n",
              "      <th></th>\n",
              "    </tr>\n",
              "  </thead>\n",
              "  <tbody>\n",
              "    <tr>\n",
              "      <th>1992-01-01</th>\n",
              "      <td>3459</td>\n",
              "    </tr>\n",
              "    <tr>\n",
              "      <th>1992-02-01</th>\n",
              "      <td>3458</td>\n",
              "    </tr>\n",
              "    <tr>\n",
              "      <th>1992-03-01</th>\n",
              "      <td>4002</td>\n",
              "    </tr>\n",
              "    <tr>\n",
              "      <th>1992-04-01</th>\n",
              "      <td>4564</td>\n",
              "    </tr>\n",
              "    <tr>\n",
              "      <th>1992-05-01</th>\n",
              "      <td>4221</td>\n",
              "    </tr>\n",
              "  </tbody>\n",
              "</table>\n",
              "</div>\n",
              "      <button class=\"colab-df-convert\" onclick=\"convertToInteractive('df-6a518908-1abe-4e69-b117-0f9145b72430')\"\n",
              "              title=\"Convert this dataframe to an interactive table.\"\n",
              "              style=\"display:none;\">\n",
              "        \n",
              "  <svg xmlns=\"http://www.w3.org/2000/svg\" height=\"24px\"viewBox=\"0 0 24 24\"\n",
              "       width=\"24px\">\n",
              "    <path d=\"M0 0h24v24H0V0z\" fill=\"none\"/>\n",
              "    <path d=\"M18.56 5.44l.94 2.06.94-2.06 2.06-.94-2.06-.94-.94-2.06-.94 2.06-2.06.94zm-11 1L8.5 8.5l.94-2.06 2.06-.94-2.06-.94L8.5 2.5l-.94 2.06-2.06.94zm10 10l.94 2.06.94-2.06 2.06-.94-2.06-.94-.94-2.06-.94 2.06-2.06.94z\"/><path d=\"M17.41 7.96l-1.37-1.37c-.4-.4-.92-.59-1.43-.59-.52 0-1.04.2-1.43.59L10.3 9.45l-7.72 7.72c-.78.78-.78 2.05 0 2.83L4 21.41c.39.39.9.59 1.41.59.51 0 1.02-.2 1.41-.59l7.78-7.78 2.81-2.81c.8-.78.8-2.07 0-2.86zM5.41 20L4 18.59l7.72-7.72 1.47 1.35L5.41 20z\"/>\n",
              "  </svg>\n",
              "      </button>\n",
              "      \n",
              "  <style>\n",
              "    .colab-df-container {\n",
              "      display:flex;\n",
              "      flex-wrap:wrap;\n",
              "      gap: 12px;\n",
              "    }\n",
              "\n",
              "    .colab-df-convert {\n",
              "      background-color: #E8F0FE;\n",
              "      border: none;\n",
              "      border-radius: 50%;\n",
              "      cursor: pointer;\n",
              "      display: none;\n",
              "      fill: #1967D2;\n",
              "      height: 32px;\n",
              "      padding: 0 0 0 0;\n",
              "      width: 32px;\n",
              "    }\n",
              "\n",
              "    .colab-df-convert:hover {\n",
              "      background-color: #E2EBFA;\n",
              "      box-shadow: 0px 1px 2px rgba(60, 64, 67, 0.3), 0px 1px 3px 1px rgba(60, 64, 67, 0.15);\n",
              "      fill: #174EA6;\n",
              "    }\n",
              "\n",
              "    [theme=dark] .colab-df-convert {\n",
              "      background-color: #3B4455;\n",
              "      fill: #D2E3FC;\n",
              "    }\n",
              "\n",
              "    [theme=dark] .colab-df-convert:hover {\n",
              "      background-color: #434B5C;\n",
              "      box-shadow: 0px 1px 3px 1px rgba(0, 0, 0, 0.15);\n",
              "      filter: drop-shadow(0px 1px 2px rgba(0, 0, 0, 0.3));\n",
              "      fill: #FFFFFF;\n",
              "    }\n",
              "  </style>\n",
              "\n",
              "      <script>\n",
              "        const buttonEl =\n",
              "          document.querySelector('#df-6a518908-1abe-4e69-b117-0f9145b72430 button.colab-df-convert');\n",
              "        buttonEl.style.display =\n",
              "          google.colab.kernel.accessAllowed ? 'block' : 'none';\n",
              "\n",
              "        async function convertToInteractive(key) {\n",
              "          const element = document.querySelector('#df-6a518908-1abe-4e69-b117-0f9145b72430');\n",
              "          const dataTable =\n",
              "            await google.colab.kernel.invokeFunction('convertToInteractive',\n",
              "                                                     [key], {});\n",
              "          if (!dataTable) return;\n",
              "\n",
              "          const docLinkHtml = 'Like what you see? Visit the ' +\n",
              "            '<a target=\"_blank\" href=https://colab.research.google.com/notebooks/data_table.ipynb>data table notebook</a>'\n",
              "            + ' to learn more about interactive tables.';\n",
              "          element.innerHTML = '';\n",
              "          dataTable['output_type'] = 'display_data';\n",
              "          await google.colab.output.renderOutput(dataTable, element);\n",
              "          const docLink = document.createElement('div');\n",
              "          docLink.innerHTML = docLinkHtml;\n",
              "          element.appendChild(docLink);\n",
              "        }\n",
              "      </script>\n",
              "    </div>\n",
              "  </div>\n",
              "  "
            ]
          },
          "metadata": {},
          "execution_count": 1
        }
      ],
      "source": [
        "import numpy as np\n",
        "import pandas as pd\n",
        "\n",
        "import torch\n",
        "import torch.nn as nn\n",
        "import matplotlib.pyplot as plt\n",
        "%matplotlib inline\n",
        "\n",
        "df = pd.read_csv(\"/content/Alcohol_Sales.csv\", index_col = 0, parse_dates = True)\n",
        "df.head()"
      ]
    },
    {
      "cell_type": "code",
      "source": [
        "df.dropna(inplace=True)\n",
        "len(df)\n",
        "\n",
        "# visualización de datos\n",
        "plt.figure(figsize = (12,4))\n",
        "plt.title('Alcohol Sales')\n",
        "plt.ylabel('Sales in million dollars')\n",
        "plt.grid(True)\n",
        "plt.autoscale(axis='x',tight=True)\n",
        "plt.plot(df['S4248SM144NCEN'],color='#8000ff')\n",
        "plt.show()"
      ],
      "metadata": {
        "colab": {
          "base_uri": "https://localhost:8080/",
          "height": 281
        },
        "id": "h7TJeAwNyz1L",
        "outputId": "e6e64b73-9a8f-4617-f134-b5e7ee7941bd"
      },
      "execution_count": 2,
      "outputs": [
        {
          "output_type": "display_data",
          "data": {
            "text/plain": [
              "<Figure size 864x288 with 1 Axes>"
            ],
            "image/png": "[encoded data removed]"
          },
          "metadata": {
            "needs_background": "light"
          }
        }
      ]
    },
    {
      "cell_type": "code",
      "source": [
        "# extracting the time series values\n",
        "y = df['S4248SM144NCEN'].values.astype(float) \n",
        "\n",
        "#defining a test size (los últimos 12 meses para el test final)\n",
        "test_size = 12\n",
        "\n",
        "#create train and test splits\n",
        "train_set = y[:-test_size]\n",
        "test_set = y[-test_size:]\n",
        "\n",
        "print(len(test_set))"
      ],
      "metadata": {
        "colab": {
          "base_uri": "https://localhost:8080/"
        },
        "id": "Yu06qtPDy99u",
        "outputId": "d7f9c49f-023e-42cf-ee92-ae5e924e7954"
      },
      "execution_count": 3,
      "outputs": [
        {
          "output_type": "stream",
          "name": "stdout",
          "text": [
            "12\n"
          ]
        }
      ]
    },
    {
      "cell_type": "code",
      "source": [
        "# normalización de datos\n",
        "from sklearn.preprocessing import MinMaxScaler\n",
        "\n",
        "# instantiate a scaler\n",
        "scaler = MinMaxScaler(feature_range=(-1, 1))\n",
        "\n",
        "# normalize the training set\n",
        "train_norm = scaler.fit_transform(train_set.reshape(-1, 1))\n",
        "# convert train_norm to a tensor\n",
        "train_norm = torch.FloatTensor(train_norm).view(-1)\n",
        "\n",
        "# define a window size\n",
        "# aca se define el número de muestras que se utilizan para predecir (como entrada)\n",
        "# cuantos datos del pasado tomo como referencia para estimar el siguiente\n",
        "window_size = 12\n",
        "\n",
        "# define a function to create sequence/label tuples\n",
        "def input_data(seq, ws):\n",
        "    out = []\n",
        "    L = len(seq)\n",
        "    for i in range(L-ws): \n",
        "        window = seq[i:i+ws]# barro el 'seq' desde el inicio, con un largo de ws\n",
        "        label = seq[i+ws:i+ws+1] # saco el 'label' siguiente, correspondiente al valor del siguiente año\n",
        "        out.append((window,label)) # unifico en una list los inputs y el label\n",
        "    return out\n",
        "\n",
        "# apply input_data to train_norm\n",
        "train_data = input_data(train_norm, window_size)\n",
        "print('número de datos para entrenar [input, label]: ', len(train_data))\n",
        "print('por ejemplo, el primero: ')\n",
        "print(train_data[0])"
      ],
      "metadata": {
        "colab": {
          "base_uri": "https://localhost:8080/"
        },
        "id": "XPjVSjEQzAtY",
        "outputId": "6246393c-158a-4d73-b31c-f31b6de63c0b"
      },
      "execution_count": 4,
      "outputs": [
        {
          "output_type": "stream",
          "name": "stdout",
          "text": [
            "número de datos para entrenar [input, label]:  301\n",
            "por ejemplo, el primero: \n",
            "(tensor([-0.9268, -0.9270, -0.8340, -0.7379, -0.7966, -0.7439, -0.7547, -0.8109,\n",
            "        -0.8128, -0.7901, -0.7933, -0.6743]), tensor([-1.]))\n"
          ]
        }
      ]
    },
    {
      "cell_type": "code",
      "source": [
        "class RNNnetwork(nn.Module):\n",
        "    def __init__(self, input_size=1, hidden_size=100, output_size=1):\n",
        "        super().__init__()\n",
        "        self.hidden_size = hidden_size\n",
        "        \n",
        "        # add an LSTM layer:\n",
        "        self.lstm = nn.LSTM(input_size,hidden_size)\n",
        "        \n",
        "        # add a fully-connected layer:\n",
        "        self.linear = nn.Linear(hidden_size,output_size)\n",
        "        \n",
        "        # initializing h0 and c0:\n",
        "        self.hidden = (torch.zeros(1,1,self.hidden_size),\n",
        "                       torch.zeros(1,1,self.hidden_size))\n",
        "\n",
        "    def forward(self,seq):\n",
        "        \n",
        "        lstm_out, _ = self.lstm(\n",
        "            seq.view(len(seq),1,-1))\n",
        "        pred = self.linear(lstm_out.view(len(seq),-1))\n",
        "        return pred[-1]"
      ],
      "metadata": {
        "id": "xz2IusbBzHJ1"
      },
      "execution_count": 5,
      "outputs": []
    },
    {
      "cell_type": "code",
      "source": [
        "torch.manual_seed(0)\n",
        "\n",
        "# instantiate\n",
        "model = RNNnetwork(input_size=1, hidden_size=150,  output_size=1)\n",
        "\n",
        "# loss\n",
        "criterion = nn.MSELoss()\n",
        "\n",
        "#optimizer\n",
        "optimizer = torch.optim.Adam(model.parameters(), lr=0.001)\n",
        "\n",
        "model"
      ],
      "metadata": {
        "colab": {
          "base_uri": "https://localhost:8080/"
        },
        "id": "W71MDw50zYYO",
        "outputId": "64a8af3e-13d0-4289-8ea8-8795aa6c21a5"
      },
      "execution_count": 6,
      "outputs": [
        {
          "output_type": "execute_result",
          "data": {
            "text/plain": [
              "RNNnetwork(\n",
              "  (lstm): LSTM(1, 150)\n",
              "  (linear): Linear(in_features=150, out_features=1, bias=True)\n",
              ")"
            ]
          },
          "metadata": {},
          "execution_count": 6
        }
      ]
    },
    {
      "cell_type": "code",
      "source": [
        "epochs = 100\n",
        "\n",
        "import time\n",
        "start_time = time.time()\n",
        "\n",
        "for epoch in range(epochs):\n",
        "    for seq, y_train in train_data:\n",
        "        optimizer.zero_grad()\n",
        "        \n",
        "        model.hidden = (torch.zeros(1,1,model.hidden_size),\n",
        "                        torch.zeros(1,1,model.hidden_size))\n",
        "        \n",
        "        y_pred = model(seq)\n",
        "        \n",
        "        loss = criterion(y_pred, y_train)\n",
        "        loss.backward()\n",
        "        optimizer.step()\n",
        "        \n",
        "    print(f'Epoch: {epoch+1:2} Loss: {loss.item():10.8f}')\n",
        "    \n",
        "print(f'\\nDuration: {time.time() - start_time:.0f} seconds')"
      ],
      "metadata": {
        "colab": {
          "base_uri": "https://localhost:8080/"
        },
        "id": "jntzgiR8zcXf",
        "outputId": "f43d7b46-c852-47b8-a45e-e5bacf3f4dd0"
      },
      "execution_count": 7,
      "outputs": [
        {
          "output_type": "stream",
          "name": "stdout",
          "text": [
            "Epoch:  1 Loss: 0.36364824\n",
            "Epoch:  2 Loss: 0.19895600\n",
            "Epoch:  3 Loss: 0.34702995\n",
            "Epoch:  4 Loss: 0.44128731\n",
            "Epoch:  5 Loss: 0.32852632\n",
            "Epoch:  6 Loss: 0.34353352\n",
            "Epoch:  7 Loss: 0.31768239\n",
            "Epoch:  8 Loss: 0.24758968\n",
            "Epoch:  9 Loss: 0.29078937\n",
            "Epoch: 10 Loss: 0.37820294\n",
            "Epoch: 11 Loss: 0.35211805\n",
            "Epoch: 12 Loss: 0.32350418\n",
            "Epoch: 13 Loss: 0.34103331\n",
            "Epoch: 14 Loss: 0.21384671\n",
            "Epoch: 15 Loss: 0.30165651\n",
            "Epoch: 16 Loss: 0.07724445\n",
            "Epoch: 17 Loss: 0.00938648\n",
            "Epoch: 18 Loss: 0.01076413\n",
            "Epoch: 19 Loss: 0.00466263\n",
            "Epoch: 20 Loss: 0.00022544\n",
            "Epoch: 21 Loss: 0.01187396\n",
            "Epoch: 22 Loss: 0.00768727\n",
            "Epoch: 23 Loss: 0.00354872\n",
            "Epoch: 24 Loss: 0.00333304\n",
            "Epoch: 25 Loss: 0.00002838\n",
            "Epoch: 26 Loss: 0.00388483\n",
            "Epoch: 27 Loss: 0.00032606\n",
            "Epoch: 28 Loss: 0.00238833\n",
            "Epoch: 29 Loss: 0.00279411\n",
            "Epoch: 30 Loss: 0.00316156\n",
            "Epoch: 31 Loss: 0.00572133\n",
            "Epoch: 32 Loss: 0.00049990\n",
            "Epoch: 33 Loss: 0.02282726\n",
            "Epoch: 34 Loss: 0.03082117\n",
            "Epoch: 35 Loss: 0.00710028\n",
            "Epoch: 36 Loss: 0.01629894\n",
            "Epoch: 37 Loss: 0.00995763\n",
            "Epoch: 38 Loss: 0.00190100\n",
            "Epoch: 39 Loss: 0.00036299\n",
            "Epoch: 40 Loss: 0.00023537\n",
            "Epoch: 41 Loss: 0.00134840\n",
            "Epoch: 42 Loss: 0.00226005\n",
            "Epoch: 43 Loss: 0.00292663\n",
            "Epoch: 44 Loss: 0.00147211\n",
            "Epoch: 45 Loss: 0.00036363\n",
            "Epoch: 46 Loss: 0.05119174\n",
            "Epoch: 47 Loss: 0.04861262\n",
            "Epoch: 48 Loss: 0.01141471\n",
            "Epoch: 49 Loss: 0.00108288\n",
            "Epoch: 50 Loss: 0.00029471\n",
            "Epoch: 51 Loss: 0.00137867\n",
            "Epoch: 52 Loss: 0.00060631\n",
            "Epoch: 53 Loss: 0.00175871\n",
            "Epoch: 54 Loss: 0.00068034\n",
            "Epoch: 55 Loss: 0.00081431\n",
            "Epoch: 56 Loss: 0.00325478\n",
            "Epoch: 57 Loss: 0.00401624\n",
            "Epoch: 58 Loss: 0.00660215\n",
            "Epoch: 59 Loss: 0.00203718\n",
            "Epoch: 60 Loss: 0.01325716\n",
            "Epoch: 61 Loss: 0.00038332\n",
            "Epoch: 62 Loss: 0.01068168\n",
            "Epoch: 63 Loss: 0.00112954\n",
            "Epoch: 64 Loss: 0.00731089\n",
            "Epoch: 65 Loss: 0.00062883\n",
            "Epoch: 66 Loss: 0.00263458\n",
            "Epoch: 67 Loss: 0.00113548\n",
            "Epoch: 68 Loss: 0.00008572\n",
            "Epoch: 69 Loss: 0.00622070\n",
            "Epoch: 70 Loss: 0.00028051\n",
            "Epoch: 71 Loss: 0.00029198\n",
            "Epoch: 72 Loss: 0.00000187\n",
            "Epoch: 73 Loss: 0.00333475\n",
            "Epoch: 74 Loss: 0.00103863\n",
            "Epoch: 75 Loss: 0.00015925\n",
            "Epoch: 76 Loss: 0.00159971\n",
            "Epoch: 77 Loss: 0.00058860\n",
            "Epoch: 78 Loss: 0.00101818\n",
            "Epoch: 79 Loss: 0.00718986\n",
            "Epoch: 80 Loss: 0.00540286\n",
            "Epoch: 81 Loss: 0.00135109\n",
            "Epoch: 82 Loss: 0.00415045\n",
            "Epoch: 83 Loss: 0.00779373\n",
            "Epoch: 84 Loss: 0.00163472\n",
            "Epoch: 85 Loss: 0.00463461\n",
            "Epoch: 86 Loss: 0.01424596\n",
            "Epoch: 87 Loss: 0.00350566\n",
            "Epoch: 88 Loss: 0.00906996\n",
            "Epoch: 89 Loss: 0.00008805\n",
            "Epoch: 90 Loss: 0.00579369\n",
            "Epoch: 91 Loss: 0.00166501\n",
            "Epoch: 92 Loss: 0.00503420\n",
            "Epoch: 93 Loss: 0.00165217\n",
            "Epoch: 94 Loss: 0.01316134\n",
            "Epoch: 95 Loss: 0.05913712\n",
            "Epoch: 96 Loss: 0.01999051\n",
            "Epoch: 97 Loss: 0.02528918\n",
            "Epoch: 98 Loss: 0.00730382\n",
            "Epoch: 99 Loss: 0.03195393\n",
            "Epoch: 100 Loss: 0.01122807\n",
            "\n",
            "Duration: 209 seconds\n"
          ]
        }
      ]
    },
    {
      "cell_type": "code",
      "source": [
        "future = 12 # para fijar cuantos datos a futuro voy a iterar\n",
        "\n",
        "# tomo los últimos window_size meses, acorde al entrenamiento del modelo\n",
        "preds = train_norm[-window_size:].tolist()\n",
        "print('largo input: ', len(preds))\n",
        "\n",
        "\n",
        "model.eval()\n",
        "# armo for loop para ir agregando la última predicción y la uso para predecir el futuro\n",
        "for i in range(future):\n",
        "    seq = torch.FloatTensor(preds[-window_size:])\n",
        "    with torch.no_grad():\n",
        "        model.hidden = (torch.zeros(1,1,model.hidden_size),\n",
        "                        torch.zeros(1,1,model.hidden_size))\n",
        "        salida = model(seq).item()\n",
        "        preds.append(salida) # acá estoy cargando la última predicción\n",
        "print('largo últimos predecidos: ', len(preds[-future:]))"
      ],
      "metadata": {
        "colab": {
          "base_uri": "https://localhost:8080/"
        },
        "id": "peupSPhlzhwB",
        "outputId": "133c3066-64ee-4d02-9165-4b84d1966392"
      },
      "execution_count": 8,
      "outputs": [
        {
          "output_type": "stream",
          "name": "stdout",
          "text": [
            "largo input:  12\n",
            "largo últimos predecidos:  12\n"
          ]
        }
      ]
    },
    {
      "cell_type": "code",
      "source": [
        "true_predictions = scaler.inverse_transform(np.array(preds[-future:]).reshape(-1, 1))\n",
        "print(true_predictions)\n",
        "\n",
        "# calculo de error de lo predecido vs el último mes no usado en el entrenamiento\n",
        "pred_f = torch.FloatTensor(true_predictions)\n",
        "test_norm = df['S4248SM144NCEN'][-12:].to_numpy()\n",
        "test_norm = torch.FloatTensor(test_norm)\n",
        "loss = criterion(pred_f.squeeze(), test_norm.squeeze())\n",
        "print('MSE : ', torch.sqrt(loss).item())"
      ],
      "metadata": {
        "colab": {
          "base_uri": "https://localhost:8080/"
        },
        "id": "d3844mN5zqTp",
        "outputId": "c727313d-d282-4d37-aeea-82e8251fbc94"
      },
      "execution_count": 9,
      "outputs": [
        {
          "output_type": "stream",
          "name": "stdout",
          "text": [
            "[[11045.1073771 ]\n",
            " [11819.62374872]\n",
            " [11851.60887849]\n",
            " [13400.88742518]\n",
            " [14378.6795854 ]\n",
            " [11640.11244644]\n",
            " [13463.65133023]\n",
            " [11707.24014713]\n",
            " [12829.31945288]\n",
            " [13251.22136807]\n",
            " [14564.64296663]\n",
            " [11087.01407531]]\n",
            "MSE :  757.3121337890625\n"
          ]
        }
      ]
    },
    {
      "cell_type": "code",
      "source": [
        "x = np.arange('2018-02-01', '2019-02-01', dtype='datetime64[M]').astype('datetime64[D]')\n",
        "plt.figure(figsize=(12,4))\n",
        "plt.title('Alcohol Sales')\n",
        "plt.ylabel('Sales in million dollars')\n",
        "plt.grid(True)\n",
        "plt.autoscale(axis='x',tight=True)\n",
        "plt.plot(df['S4248SM144NCEN'], color='#8000ff')\n",
        "plt.plot(x,true_predictions, color='#ff8000')\n",
        "plt.show()"
      ],
      "metadata": {
        "colab": {
          "base_uri": "https://localhost:8080/",
          "height": 281
        },
        "id": "ls3hrWLCzuk_",
        "outputId": "62050b2d-5760-466f-e65e-19f88aec60b4"
      },
      "execution_count": 10,
      "outputs": [
        {
          "output_type": "display_data",
          "data": {
            "text/plain": [
              "<Figure size 864x288 with 1 Axes>"
            ],
            "image/png": "[encoded data removed]"
          },
          "metadata": {
            "needs_background": "light"
          }
        }
      ]
    }
  ]
}