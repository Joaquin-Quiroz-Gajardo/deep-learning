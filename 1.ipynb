{
 "cells": [
  {
   "cell_type": "markdown",
   "metadata": {},
   "source": [
    "B. El modelo posee 9 parámetros desconocidos, seis pesos, a cada neurona le corresponde dos de esos pesos. Además, hay tres biases, de los cuales corresponde uno por neurona.\n",
    "\n",
    "C. Entre los hiper-parametros se encuentra las funciones de activación seleccionados, junto con el learning rate (LR).\n",
    "\n",
    "Al modificar el LR se altera la velocidad con que aprende el modelo, un LR muy elevado provoca que el descenso del gradiente sea mas acelerado, lo que puede provocar que no se alcance el mínimo global. Por lo demás, un LR muy bajo provocara que el aprendizaje se dé muy lento, y al realizarse modificaciones muy conservadoras no es posible para el modelo alcanzar el mínimo global."
   ]
  },
  {
   "cell_type": "code",
   "execution_count": 1,
   "metadata": {},
   "outputs": [],
   "source": [
    "import numpy as np\n",
    "import matplotlib.pyplot as plt\n",
    "%matplotlib inline\n",
    "w_1_11,w_1_12,w_1_21,w_1_22,w_2_11,w_2_12=np.random.uniform(1,0,6)\n",
    "b_1_1,b_1_2,b_2_1=np.random.uniform(1,0,3)\n",
    "np.random.seed(1)\n",
    "\n",
    "def sigmoid(x):\n",
    "  return 1 / (1 + np.exp(-x))\n",
    "\n",
    "X=np.array([[1,1],[1,0],[0,1],[0,0]])\n",
    "Y=np.array([[0],[1],[1],[0]])\n",
    "lr=0.001"
   ]
  },
  {
   "cell_type": "code",
   "execution_count": 2,
   "metadata": {},
   "outputs": [
    {
     "data": {
      "image/png": "[encoded data removed]",
      "text/plain": [
       "<Figure size 432x288 with 1 Axes>"
      ]
     },
     "metadata": {
      "needs_background": "light"
     },
     "output_type": "display_data"
    }
   ],
   "source": [
    "error_epochs=[]\n",
    "for epoch in range(100):\n",
    "    error_batch=[]\n",
    "    for batch in range(4):\n",
    "        z_1_1=w_1_11*X[batch,0]+w_1_12*X[batch,1]+b_1_1\n",
    "        z_1_2=w_1_21*X[batch,0]+w_1_22*X[batch,1]+b_1_2\n",
    "        a_1_1=sigmoid(z_1_1)\n",
    "        a_1_2=sigmoid(z_1_2)\n",
    "        z_2_1=w_2_11*a_1_1 + w_2_12*a_1_2 + b_2_1\n",
    "\n",
    "        error=(z_2_1-Y[batch])**2\n",
    "        error_batch.append(error)\n",
    "        \n",
    "        dCo_da_2_1=2*(z_2_1-Y[batch])\n",
    "        dz_2_1_da_1=w_2_11\n",
    "        dz_2_1_da_2=w_2_12\n",
    "        da_1_dz_1_1=sigmoid(z_1_1) * (1 - sigmoid(z_1_1))\n",
    "        da_1_dz_1_2=sigmoid(z_1_2) * (1 - sigmoid(z_1_2))\n",
    "        b_2_1=b_2_1-(lr*dCo_da_2_1)\n",
    "        w_2_11=w_2_11-(lr*dCo_da_2_1*a_1_1)\n",
    "        w_2_12=w_2_12-(lr*dCo_da_2_1*a_1_2)\n",
    "        b_1_1=b_1_1-(lr*dCo_da_2_1*dz_2_1_da_1*da_1_dz_1_1)\n",
    "        b_1_2=b_1_2-(lr*dCo_da_2_1*dz_2_1_da_2*da_1_dz_1_2)\n",
    "        w_1_11=w_1_11-(lr*dCo_da_2_1*dz_2_1_da_1*da_1_dz_1_1*X[batch,0])\n",
    "        w_1_12=w_1_12-(lr*dCo_da_2_1*dz_2_1_da_1*da_1_dz_1_1*X[batch,1])\n",
    "        w_1_21=w_1_21-(lr*dCo_da_2_1*dz_2_1_da_2*da_1_dz_1_2*X[batch,0])\n",
    "        w_1_22=w_1_22-(lr*dCo_da_2_1*dz_2_1_da_2*da_1_dz_1_2*X[batch,1])\n",
    "        \n",
    "    error_epoch=np.sum(error_batch)*0.25\n",
    "    error_epochs.append(error_epoch)\n",
    "# print(error_batch[0])\n",
    "plt.plot(error_epochs)\n",
    "plt.show()"
   ]
  },
  {
   "cell_type": "code",
   "execution_count": 7,
   "metadata": {},
   "outputs": [
    {
     "name": "stdout",
     "output_type": "stream",
     "text": [
      "MSE: 0.26917488687652613\n"
     ]
    }
   ],
   "source": [
    "X_test=np.array([[1,1],[1,0],[0,1],[0,0]])\n",
    "Y_test=np.array([[0],[1],[1],[0]])\n",
    "error_test=[]\n",
    "for i in range(4):\n",
    "    z_1_1=w_1_11*X_test[i,0]+w_1_12*X_test[i,1]+b_1_1\n",
    "    z_1_2=w_1_21*X_test[i,0]+w_1_22*X_test[i,1]+b_1_2\n",
    "    a_1_1=sigmoid(z_1_1)\n",
    "    a_1_2=sigmoid(z_1_2)\n",
    "    z_2_1=w_2_11*a_1_1 + w_2_12*a_1_2 + b_2_1\n",
    "    error=(z_2_1-Y_test[i])**2\n",
    "    error_test.append(error)\n",
    "print(\"MSE:\", np.sum(error_test)*0.25)"
   ]
  }
 ],
 "metadata": {
  "interpreter": {
   "hash": "7598d2ada798bf6966bc75680702b1e05fbe17c344021015c5942f44a828edfd"
  },
  "kernelspec": {
   "display_name": "Python 3.8.2 64-bit",
   "language": "python",
   "name": "python3"
  },
  "language_info": {
   "codemirror_mode": {
    "name": "ipython",
    "version": 3
   },
   "file_extension": ".py",
   "mimetype": "text/x-python",
   "name": "python",
   "nbconvert_exporter": "python",
   "pygments_lexer": "ipython3",
   "version": "3.8.2"
  },
  "orig_nbformat": 4
 },
 "nbformat": 4,
 "nbformat_minor": 2
}
