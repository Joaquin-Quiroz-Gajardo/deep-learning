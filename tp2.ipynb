{
  "nbformat": 4,
  "nbformat_minor": 0,
  "metadata": {
    "colab": {
      "name": "tp_2.ipynb",
      "provenance": []
    },
    "kernelspec": {
      "name": "python3",
      "display_name": "Python 3"
    },
    "language_info": {
      "name": "python"
    }
  },
  "cells": [
    {
      "cell_type": "markdown",
      "source": [
        "# TP 2\n",
        "\n",
        "## Parte 1\n",
        "\n",
        "###  Stochastic Gradient Descent para encontrar el máximo de una función\n",
        "\n",
        "Implementar en Python un algoritmo basado en Stochastic Gradient Descentpara encontrar numéricamente el mínimo de . ¿Cuál 𝑦 = −( 𝑥 − 2 ) 2 + 3es el máximo valor que encontró el algoritmo y para qué valor de x? ¿En qué momento detuviste la búsqueda y por qué? ¿Cómo inicializamos los valores random del algoritmo y cómo afectan la convergencia? ¿Cuáles son los hiperparámetros del algoritmo?\n",
        "Primero, se detuvo la búsqueda cuando la derivada obtiene un valor pequeño, asumiendo que se estaba en un máximo. Los hiperparámetros son el learning rate, que determina el tamaño de los pasos a realizar para maximizar el valor de la función, también esta el valor delta, que determina cuando detenemos el aprendizaje.\n"
      ],
      "metadata": {
        "id": "noQTRMtkv8sq"
      }
    },
    {
      "cell_type": "code",
      "execution_count": 1,
      "metadata": {
        "colab": {
          "base_uri": "https://localhost:8080/",
          "height": 320
        },
        "id": "S8ARhUKgv4OL",
        "outputId": "51c2cc9c-f84b-4645-a3c9-32de0505a131"
      },
      "outputs": [
        {
          "output_type": "display_data",
          "data": {
            "text/plain": [
              "<Figure size 720x360 with 1 Axes>"
            ],
            "image/png": "[encoded data removed]"
          },
          "metadata": {
            "needs_background": "light"
          }
        }
      ],
      "source": [
        "import matplotlib.pyplot as plt\n",
        "import numpy as np\n",
        " \n",
        "x = np.linspace(0, 4, 100)\n",
        "y = (((x-2)**2)*-1)+3\n",
        "\n",
        "def f(i):\n",
        "    return (((i-2)**2)*-1)+3\n",
        "\n",
        "fig = plt.figure(figsize = (10, 5))\n",
        "\n",
        "plt.plot(x, y)\n",
        "plt.show()"
      ]
    },
    {
      "cell_type": "code",
      "source": [
        "point = 0\n",
        "delta = 1\n",
        "\n",
        "while delta > 0.01 or delta < -0.01:\n",
        "    delta = (f(point)/(f(point+0.01)))-1\n",
        "    point += delta\n",
        "    print(\"x:\", point, \"\\ny:\", f(point), \"\\n----------\", delta)\n",
        "    # j = input()\n",
        "\n",
        "print(\"el numero de x que maximiza y es\", round(point))\n"
      ],
      "metadata": {
        "colab": {
          "base_uri": "https://localhost:8080/"
        },
        "id": "FfDa3O3YxMoy",
        "outputId": "c002c87f-e386-40f3-a6ed-2a99ed6dd60d"
      },
      "execution_count": 2,
      "outputs": [
        {
          "output_type": "stream",
          "name": "stdout",
          "text": [
            "x: 0.04155817102385151 \n",
            "y: -0.8354943974834415 \n",
            "---------- 0.04155817102385151\n",
            "x: 0.09061339789926848 \n",
            "y: -0.6457571962817772 \n",
            "---------- 0.04905522687541697\n",
            "x: 0.15329176876271977 \n",
            "y: -0.4103312913195243 \n",
            "---------- 0.0626783708634513\n",
            "x: 0.2519114420938253 \n",
            "y: -0.055813606282489214 \n",
            "---------- 0.09861967333110555\n",
            "x: 1.9158120479925933 \n",
            "y: 2.9929123887367988 \n",
            "---------- 1.663900605898768\n",
            "x: 1.9152831580017602 \n",
            "y: 2.9928230566818455 \n",
            "---------- -0.0005288899908332256\n",
            "el numero de x que maximiza y es 2\n"
          ]
        }
      ]
    },
    {
      "cell_type": "markdown",
      "source": [
        "## Parte 2\n",
        "\n",
        "###  Mini-Batch Gradient Descent para entrenar un modelo cuadrático"
      ],
      "metadata": {
        "id": "FcdXRT3jxmrb"
      }
    },
    {
      "cell_type": "code",
      "source": [
        "import numpy as np\n",
        "\n",
        "def formula(x):\n",
        "    return (-(x-2)**2) + 3 + 2 * np.sin(16* x)\n",
        "\n",
        "print(formula(1)) \n",
        "\n",
        "data_x = np.random.rand(10000) * 4\n",
        "data_y = np.array(list(map(formula, data_x)))\n",
        "\n",
        "print(data_x[:10], data_x.shape)\n",
        "print(data_y[:10])\n",
        "\n",
        "\n",
        "import numpy as np\n",
        "import matplotlib.pyplot as plt\n",
        "\n",
        "w_1_11,w_1_12,w_1_21,w_1_22,w_2_11,w_2_12=np.random.uniform(1,0,6)\n",
        "b_1_1,b_1_2,b_2_1=np.random.uniform(1,0,3)\n",
        "np.random.seed(1)\n",
        "\n",
        "def sigmoid(x):\n",
        "  return 1 / (1 + np.exp(-x))\n",
        "\n",
        "lr=0.001\n",
        "\n",
        "error_epochs=[]\n",
        "for epoch in range(100):\n",
        "    error_batch=[]\n",
        "    for batch in range(10000):\n",
        "        z_1_1=w_1_11*data_x[batch]+b_1_1\n",
        "        z_1_2=w_1_21*data_x[batch]+b_1_2\n",
        "        a_1_1=sigmoid(z_1_1)\n",
        "        a_1_2=sigmoid(z_1_2)\n",
        "        z_2_1=w_2_11*a_1_1 + w_2_12*a_1_2 + b_2_1\n",
        "\n",
        "        error=(z_2_1-data_y[batch])**2\n",
        "        error_batch.append(error)\n",
        "        \n",
        "        dCo_da_2_1=2*(z_2_1-data_y[batch])\n",
        "        dz_2_1_da_1=w_2_11\n",
        "        dz_2_1_da_2=w_2_12\n",
        "        da_1_dz_1_1=sigmoid(z_1_1) * (1 - sigmoid(z_1_1))\n",
        "        da_1_dz_1_2=sigmoid(z_1_2) * (1 - sigmoid(z_1_2))\n",
        "        b_2_1=b_2_1-(lr*dCo_da_2_1)\n",
        "        w_2_11=w_2_11-(lr*dCo_da_2_1*a_1_1)\n",
        "        w_2_12=w_2_12-(lr*dCo_da_2_1*a_1_2)\n",
        "        b_1_1=b_1_1-(lr*dCo_da_2_1*dz_2_1_da_1*da_1_dz_1_1)\n",
        "        b_1_2=b_1_2-(lr*dCo_da_2_1*dz_2_1_da_2*da_1_dz_1_2)\n",
        "        w_1_11=w_1_11-(lr*dCo_da_2_1*dz_2_1_da_1*da_1_dz_1_1*data_x[batch])\n",
        "        # w_1_12=w_1_12-(lr*dCo_da_2_1*dz_2_1_da_1*da_1_dz_1_1*data_x[batch])\n",
        "        w_1_21=w_1_21-(lr*dCo_da_2_1*dz_2_1_da_2*da_1_dz_1_2*data_x[batch])\n",
        "        # w_1_22=w_1_22-(lr*dCo_da_2_1*dz_2_1_da_2*da_1_dz_1_2*data_x[batch])\n",
        "        \n",
        "    error_epoch=np.sum(error_batch)*0.0001\n",
        "    error_epochs.append(error_epoch)\n",
        "# print(error_batch[0])\n",
        "plt.plot(error_epochs)\n",
        "plt.show()"
      ],
      "metadata": {
        "colab": {
          "base_uri": "https://localhost:8080/",
          "height": 369
        },
        "id": "shk80Oa4yJym",
        "outputId": "4c75d6e9-67d6-4f71-d984-8296bfbd11f8"
      },
      "execution_count": 4,
      "outputs": [
        {
          "output_type": "stream",
          "name": "stdout",
          "text": [
            "1.4241933666698694\n",
            "[1.66808802e+00 2.88129797e+00 4.57499269e-04 1.20933029e+00\n",
            " 5.87023563e-01 3.69354379e-01 7.45040846e-01 1.38224291e+00\n",
            " 1.58706990e+00 2.15526694e+00] (10000,)\n",
            "[ 4.8896348   3.93078974 -0.98353037  3.33321632  1.06828815 -0.38878624\n",
            "  0.22153491  2.36954672  3.34437869  3.12225764]\n"
          ]
        },
        {
          "output_type": "display_data",
          "data": {
            "text/plain": [
              "<Figure size 432x288 with 1 Axes>"
            ],
            "image/png": "[encoded data removed]"
          },
          "metadata": {
            "needs_background": "light"
          }
        }
      ]
    }
  ]
}