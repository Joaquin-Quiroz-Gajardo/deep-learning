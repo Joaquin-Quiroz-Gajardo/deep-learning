{
  "nbformat": 4,
  "nbformat_minor": 0,
  "metadata": {
    "colab": {
      "name": "Untitled0.ipynb",
      "provenance": []
    },
    "kernelspec": {
      "name": "python3",
      "display_name": "Python 3"
    },
    "language_info": {
      "name": "python"
    }
  },
  "cells": [
    {
      "cell_type": "code",
      "execution_count": 5,
      "metadata": {
        "colab": {
          "base_uri": "https://localhost:8080/"
        },
        "id": "Kc1NtYBLZMnw",
        "outputId": "c7573899-aa27-45fd-ea1d-af59c4aa499a"
      },
      "outputs": [
        {
          "output_type": "stream",
          "name": "stdout",
          "text": [
            "score: 0.2979478326571442\n"
          ]
        }
      ],
      "source": [
        "import pickle\n",
        "import numpy as np\n",
        "import torch\n",
        "import torch.nn as nn\n",
        "import torch.optim as optim\n",
        "import torch.nn.functional as F\n",
        "from torch.utils.data import dataloader\n",
        "import torchvision.datasets as datasets\n",
        "import torchvision.transforms as transforms\n",
        "import torchvision\n",
        "from torchvision.transforms import ToTensor\n",
        "from torch.utils.data import Dataset\n",
        "from torch.utils.data import DataLoader\n",
        "\n",
        "class Model(torch.nn.Module):\n",
        "    def __init__(self):\n",
        "        super(Model, self).__init__()# super(GarmentClassifier, self).__init__()\n",
        "        self.conv1=torch.nn.Conv2d(in_channels=3, out_channels=16, kernel_size=3,stride=1,padding=\"same\")\n",
        "        self.pool1=torch.nn.MaxPool2d(kernel_size=2,stride=2)\n",
        "        self.conv2=torch.nn.Conv2d(in_channels=16, out_channels=32, kernel_size=3,stride=1,padding=\"same\")\n",
        "        self.pool2=torch.nn.MaxPool2d(kernel_size=2,stride=2)\n",
        "        self.conv3=torch.nn.Conv2d(in_channels=32, out_channels=64, kernel_size=3,stride=1,padding=\"same\")\n",
        "        self.pool3=torch.nn.MaxPool2d(kernel_size=2,stride=2)\n",
        "        self.conv4=torch.nn.Conv2d(in_channels=64, out_channels=128, kernel_size=3,stride=1,padding=\"same\")\n",
        "        self.fc1 = torch.nn.Linear(in_features=128*4*4, out_features=100)\n",
        "        self.fc2 = torch.nn.Linear(in_features=100, out_features=10)\n",
        "\n",
        "    def forward(self, x):\n",
        "        x = self.pool1(torch.relu(self.conv1(x)))\n",
        "        x = self.pool2(torch.relu(self.conv2(x)))\n",
        "        x = self.pool3(torch.relu(self.conv3(x)))\n",
        "        x = torch.relu(self.conv4(x))\n",
        "        x = torch.flatten(x, 1)\n",
        "        x = torch.relu(self.fc1(x))\n",
        "        x = self.fc2(x)\n",
        "        return x\n",
        "\n",
        "model = Model()\n",
        "\n",
        "def get_n_params(model):\n",
        "    pp=0\n",
        "    for p in list(model.parameters()):\n",
        "        nn=1\n",
        "        for s in list(p.size()):\n",
        "            nn = nn*s\n",
        "        pp += nn\n",
        "    return pp\n",
        "import numpy as np\n",
        "\n",
        "print(\"score:\", (1/np.log10(get_n_params(model)))*(10/30)*0.98*5)"
      ]
    }
  ]
}